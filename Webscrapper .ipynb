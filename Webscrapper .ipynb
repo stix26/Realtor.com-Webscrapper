{
 "cells": [
  {
   "cell_type": "code",
   "execution_count": null,
   "metadata": {},
   "outputs": [],
   "source": [
    "import requests\n",
    "from bs4 import BeautifulSoup\n",
    "headers={'User-agent': 'Mozilla/5.0 (X11; Ubuntu; Linux x86_64; rv:61.0) Gecko/20100101 Firefox/61.0'}\n",
    "\n",
    "r=requests.get(\"https://www.realtor.com/realestateandhomes-search/Westchester_NY\",headers=headers)\n",
    "c=r.content\n",
    "\n",
    "soup=BeautifulSoup(c,\"html.parser\")\n",
    "\n",
    "all=soup.find_all(\"div\",{\"class\":\"card-box js-navigate-to js-record-user-activity\"})\n",
    "\n",
    "all[0].find(\"span\",{\"class\":\"data-price\"})\n",
    "\n",
    "page_nr=soup.find_all(\"span\",{\"class\":\"page\"})[-1].text\n",
    "\n",
    "\n",
    "l=[]\n",
    "base_url=\"https://www.realtor.com/realestateandhomes-search/Westchester_NY/pg-\"\n",
    "for page in range(0,int(page_nr*1),1):\n",
    "    print(base_url+str(page))\n",
    "    r=requests.get(base_url+str(page))\n",
    "    c=r.content\n",
    "    soup=BeautifulSoup(c,\"html.parser\")\n",
    "    all=soup.find_all(\"div\",{\"class\":\"card-box js-navigate-to js-record-user-activity\"})\n",
    "    for item in all:\n",
    "        d={}\n",
    "        d[\"Price\"]=item.find(\"span\",{\"class\",\"data-price\"}).text\n",
    "        d[\"Address\"]=item.find_all(\"span\",{\"class\",\"listing-street-address\"})[0].text.replace(\"\\n\",\" \")\n",
    "        d[\"City\"]=item.find_all(\"span\",{\"class\",\"listing-city\"})[0].text\n",
    "        d[\"Zipcode\"]=item.find_all(\"span\",{\"class\",\"listing-postal\"})[0].text\n",
    "\n",
    "        try: #NUMBER OF BEDS\n",
    "            d[\"Beds\"]=item.find_all(\"span\",{\"class\",\"data-value\"})[0].text\n",
    "        except:\n",
    "            d[\"Beds\"]=None\n",
    "\n",
    "        try: #NUMBER OF BATHS\n",
    "            d[\"Baths\"]=item.find_all(\"span\",{\"class\",\"data-value\"})[1].text\n",
    "        except:\n",
    "            d[\"Baths\"]=None\n",
    "\n",
    "        try: #SQFT\n",
    "            d[\"SQFT\"]=item.find_all(\"span\",{\"class\",\"data-value\"})[2].text\n",
    "        except:\n",
    "            d[\"SQFT\"]=None\n",
    "\n",
    "        try: #SQFT LOT\n",
    "            d[\"LOT\"]=item.find_all(\"span\",{\"class\",\"data-value\"})[3].text\n",
    "        except:\n",
    "            d[\"LOT\"]=None\n",
    "\n",
    "        l.append(d)   \n",
    "\n",
    "import pandas\n",
    "df=pandas.DataFrame(l)\n",
    "\n",
    "df\n",
    "\n",
    "df.to_csv(\"Output.csv\")"
   ]
  },
  {
   "cell_type": "code",
   "execution_count": null,
   "metadata": {},
   "outputs": [],
   "source": []
  }
 ],
 "metadata": {
  "kernelspec": {
   "display_name": "Python 3",
   "language": "python",
   "name": "python3"
  },
  "language_info": {
   "codemirror_mode": {
    "name": "ipython",
    "version": 3
   },
   "file_extension": ".py",
   "mimetype": "text/x-python",
   "name": "python",
   "nbconvert_exporter": "python",
   "pygments_lexer": "ipython3",
   "version": "3.7.3"
  }
 },
 "nbformat": 4,
 "nbformat_minor": 2
}
